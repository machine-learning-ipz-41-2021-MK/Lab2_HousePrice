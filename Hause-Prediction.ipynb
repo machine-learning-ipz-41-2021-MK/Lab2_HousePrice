{
 "cells": [
  {
   "cell_type": "code",
   "execution_count": 43,
   "id": "a51f892d",
   "metadata": {},
   "outputs": [],
   "source": [
    "import numpy as np\n",
    "import pandas as pd\n",
    "import seaborn as sns\n",
    "import matplotlib.pyplot as plt\n",
    "import re\n",
    "pd.set_option(\"display.max_column\",None)\n",
    "import sys\n",
    "sys.path.append('~/python3.7/site-packages')"
   ]
  },
  {
   "cell_type": "code",
   "execution_count": 44,
   "id": "d0bf075e",
   "metadata": {},
   "outputs": [],
   "source": [
    "df=pd.read_csv(\"~/Downloads/house-prices-advanced-regression-techniques/Train.csv\")"
   ]
  },
  {
   "cell_type": "code",
   "execution_count": 45,
   "id": "a95d0c79",
   "metadata": {},
   "outputs": [
    {
     "data": {
      "text/plain": [
       "(13320, 9)"
      ]
     },
     "execution_count": 45,
     "metadata": {},
     "output_type": "execute_result"
    }
   ],
   "source": [
    "df.shape"
   ]
  },
  {
   "cell_type": "code",
   "execution_count": 46,
   "id": "f1a2fb8a",
   "metadata": {},
   "outputs": [
    {
     "data": {
      "text/plain": [
       "area_type          0\n",
       "availability       0\n",
       "location           1\n",
       "size              16\n",
       "society         5502\n",
       "total_sqft         0\n",
       "bath              73\n",
       "balcony          609\n",
       "price              0\n",
       "dtype: int64"
      ]
     },
     "execution_count": 46,
     "metadata": {},
     "output_type": "execute_result"
    }
   ],
   "source": [
    "df.isnull().sum()"
   ]
  },
  {
   "cell_type": "code",
   "execution_count": 47,
   "id": "7cfc1d14",
   "metadata": {},
   "outputs": [
    {
     "data": {
      "text/plain": [
       "2688"
      ]
     },
     "execution_count": 47,
     "metadata": {},
     "output_type": "execute_result"
    }
   ],
   "source": [
    "df[\"society\"].nunique()"
   ]
  },
  {
   "cell_type": "code",
   "execution_count": 48,
   "id": "f201fc1a",
   "metadata": {},
   "outputs": [],
   "source": [
    "df.drop(columns=[\"society\"],inplace=True)"
   ]
  },
  {
   "cell_type": "code",
   "execution_count": 49,
   "id": "c1a5e289",
   "metadata": {},
   "outputs": [
    {
     "data": {
      "text/plain": [
       "area_type         0\n",
       "availability      0\n",
       "location          1\n",
       "size             16\n",
       "total_sqft        0\n",
       "bath             73\n",
       "balcony         609\n",
       "price             0\n",
       "dtype: int64"
      ]
     },
     "execution_count": 49,
     "metadata": {},
     "output_type": "execute_result"
    }
   ],
   "source": [
    "df.isnull().sum()"
   ]
  },
  {
   "cell_type": "code",
   "execution_count": 50,
   "id": "63d7c978",
   "metadata": {},
   "outputs": [],
   "source": [
    "df = df.dropna(axis=0, subset=['location'])"
   ]
  },
  {
   "cell_type": "code",
   "execution_count": 51,
   "id": "61d77481",
   "metadata": {},
   "outputs": [
    {
     "name": "stdout",
     "output_type": "stream",
     "text": [
      " area_type has 4 unique values\n",
      " availability has 81 unique values\n",
      " location has 1305 unique values\n",
      " size has 31 unique values\n",
      " total_sqft has 2117 unique values\n",
      " bath has 19 unique values\n",
      " balcony has 4 unique values\n",
      " price has 1994 unique values\n"
     ]
    }
   ],
   "source": [
    "for i in df.columns:\n",
    "    print(\" {} has {} unique values\".format(i,df[i].nunique()))"
   ]
  },
  {
   "cell_type": "code",
   "execution_count": 52,
   "id": "83f18bc3",
   "metadata": {},
   "outputs": [],
   "source": [
    "def clean_sqft(num):\n",
    "    if \"-\" in num:\n",
    "        num1=num.split(\"-\")[0].strip()\n",
    "        num1=float(num1)\n",
    "        num2=num.split(\"-\")[1].strip()\n",
    "        num2=float(num2)\n",
    "        sqft = ((num1+num2)/2)\n",
    "        return sqft\n",
    "    elif \"Sq. Meter\" in num:\n",
    "        num = re.sub(r\"Sq. Meter\",\"\",num).strip()\n",
    "        num=float(num)\n",
    "        num = num*10.764\n",
    "        return num\n",
    "    elif \"Perch\" in num:\n",
    "        num = re.sub(r\"Perch\",\"\",num).strip()\n",
    "        num=float(num)\n",
    "        num = num*272\n",
    "        return num\n",
    "    elif \"Acres\" in num:\n",
    "        num = re.sub(r\"Acres\",\"\",num).strip()\n",
    "        num=float(num)\n",
    "        num = num*43560\n",
    "        return num\n",
    "    elif \"Cents\" in num:\n",
    "        num = re.sub(r\"Cents\",\"\",num).strip()\n",
    "        num=float(num)\n",
    "        num = num*435.6\n",
    "        return num\n",
    "    elif \"Sq. Yards\" in num:\n",
    "        num = re.sub(r\"Sq. Yards\",\"\",num).strip()\n",
    "        num=float(num)\n",
    "        num = num*9\n",
    "        return num\n",
    "    elif \"Guntha\" in num:\n",
    "        num = re.sub(r\"Guntha\",\"\",num).strip()\n",
    "        num=float(num)\n",
    "        num = num*1088.98\n",
    "        return num\n",
    "    elif \"Grounds\" in num:\n",
    "        num = re.sub(r\"Grounds\",\"\",num).strip()\n",
    "        num=float(num)\n",
    "        num = num*2400\n",
    "        return num\n",
    "    else:\n",
    "        return num\n",
    "    \n",
    "df[\"total_sqft\"]=df[\"total_sqft\"].apply(clean_sqft).astype('float')"
   ]
  },
  {
   "cell_type": "code",
   "execution_count": 53,
   "id": "405e2762",
   "metadata": {},
   "outputs": [
    {
     "data": {
      "text/plain": [
       "array(['2 BHK', '4 Bedroom', '3 BHK', '4 BHK', '6 Bedroom', '3 Bedroom',\n",
       "       '1 BHK', '1 RK', '1 Bedroom', '8 Bedroom', '2 Bedroom',\n",
       "       '7 Bedroom', '5 BHK', '7 BHK', '6 BHK', '5 Bedroom', '11 BHK',\n",
       "       '9 BHK', nan, '9 Bedroom', '27 BHK', '10 Bedroom', '11 Bedroom',\n",
       "       '10 BHK', '19 BHK', '16 BHK', '43 Bedroom', '14 BHK', '8 BHK',\n",
       "       '12 Bedroom', '13 BHK', '18 Bedroom'], dtype=object)"
      ]
     },
     "execution_count": 53,
     "metadata": {},
     "output_type": "execute_result"
    }
   ],
   "source": [
    "df[\"size\"].unique()"
   ]
  },
  {
   "cell_type": "code",
   "execution_count": 54,
   "id": "faececab",
   "metadata": {},
   "outputs": [],
   "source": [
    "df[\"size\"]=df[\"size\"].str.replace(\"Bedroom\",\"BHK\")"
   ]
  },
  {
   "cell_type": "code",
   "execution_count": 55,
   "id": "8f145c41",
   "metadata": {},
   "outputs": [],
   "source": [
    "df[\"size\"].fillna(\"2 BHK\",inplace = True)"
   ]
  },
  {
   "cell_type": "code",
   "execution_count": 56,
   "id": "676df1be",
   "metadata": {},
   "outputs": [],
   "source": [
    "df['bath'] = df.groupby(['size']).transform(lambda x: x.fillna(x.median()))['bath']\n",
    "df['balcony'] = df.groupby(['size']).transform(lambda x: x.fillna(x.median()))['balcony']"
   ]
  },
  {
   "cell_type": "code",
   "execution_count": 57,
   "id": "10144cf8",
   "metadata": {},
   "outputs": [
    {
     "data": {
      "text/html": [
       "<div>\n",
       "<style scoped>\n",
       "    .dataframe tbody tr th:only-of-type {\n",
       "        vertical-align: middle;\n",
       "    }\n",
       "\n",
       "    .dataframe tbody tr th {\n",
       "        vertical-align: top;\n",
       "    }\n",
       "\n",
       "    .dataframe thead th {\n",
       "        text-align: right;\n",
       "    }\n",
       "</style>\n",
       "<table border=\"1\" class=\"dataframe\">\n",
       "  <thead>\n",
       "    <tr style=\"text-align: right;\">\n",
       "      <th></th>\n",
       "      <th>area_type</th>\n",
       "      <th>availability</th>\n",
       "      <th>location</th>\n",
       "      <th>size</th>\n",
       "      <th>total_sqft</th>\n",
       "      <th>bath</th>\n",
       "      <th>balcony</th>\n",
       "      <th>price</th>\n",
       "    </tr>\n",
       "  </thead>\n",
       "  <tbody>\n",
       "    <tr>\n",
       "      <th>3379</th>\n",
       "      <td>Super built-up  Area</td>\n",
       "      <td>Ready To Move</td>\n",
       "      <td>1Hanuman Nagar</td>\n",
       "      <td>19 BHK</td>\n",
       "      <td>2000.0</td>\n",
       "      <td>16.0</td>\n",
       "      <td>NaN</td>\n",
       "      <td>490.0</td>\n",
       "    </tr>\n",
       "    <tr>\n",
       "      <th>3609</th>\n",
       "      <td>Super built-up  Area</td>\n",
       "      <td>Ready To Move</td>\n",
       "      <td>Koramangala Industrial Layout</td>\n",
       "      <td>16 BHK</td>\n",
       "      <td>10000.0</td>\n",
       "      <td>16.0</td>\n",
       "      <td>NaN</td>\n",
       "      <td>550.0</td>\n",
       "    </tr>\n",
       "    <tr>\n",
       "      <th>11559</th>\n",
       "      <td>Plot  Area</td>\n",
       "      <td>18-Apr</td>\n",
       "      <td>1Kasavanhalli</td>\n",
       "      <td>18 BHK</td>\n",
       "      <td>1200.0</td>\n",
       "      <td>18.0</td>\n",
       "      <td>NaN</td>\n",
       "      <td>200.0</td>\n",
       "    </tr>\n",
       "  </tbody>\n",
       "</table>\n",
       "</div>"
      ],
      "text/plain": [
       "                  area_type   availability                       location  \\\n",
       "3379   Super built-up  Area  Ready To Move                 1Hanuman Nagar   \n",
       "3609   Super built-up  Area  Ready To Move  Koramangala Industrial Layout   \n",
       "11559            Plot  Area         18-Apr                  1Kasavanhalli   \n",
       "\n",
       "         size  total_sqft  bath  balcony  price  \n",
       "3379   19 BHK      2000.0  16.0      NaN  490.0  \n",
       "3609   16 BHK     10000.0  16.0      NaN  550.0  \n",
       "11559  18 BHK      1200.0  18.0      NaN  200.0  "
      ]
     },
     "execution_count": 57,
     "metadata": {},
     "output_type": "execute_result"
    }
   ],
   "source": [
    "df[df[\"balcony\"].isnull()].head()"
   ]
  },
  {
   "cell_type": "code",
   "execution_count": 58,
   "id": "527fc2d1",
   "metadata": {},
   "outputs": [],
   "source": [
    "df[\"balcony\"].fillna(0,inplace = True)"
   ]
  },
  {
   "cell_type": "code",
   "execution_count": 59,
   "id": "c1366b21",
   "metadata": {},
   "outputs": [],
   "source": [
    "df.drop(columns=[\"area_type\",\"availability\"],inplace=True)"
   ]
  },
  {
   "cell_type": "code",
   "execution_count": 60,
   "id": "f51d2b78",
   "metadata": {},
   "outputs": [
    {
     "data": {
      "text/html": [
       "<div>\n",
       "<style scoped>\n",
       "    .dataframe tbody tr th:only-of-type {\n",
       "        vertical-align: middle;\n",
       "    }\n",
       "\n",
       "    .dataframe tbody tr th {\n",
       "        vertical-align: top;\n",
       "    }\n",
       "\n",
       "    .dataframe thead th {\n",
       "        text-align: right;\n",
       "    }\n",
       "</style>\n",
       "<table border=\"1\" class=\"dataframe\">\n",
       "  <thead>\n",
       "    <tr style=\"text-align: right;\">\n",
       "      <th></th>\n",
       "      <th>location</th>\n",
       "      <th>size</th>\n",
       "      <th>total_sqft</th>\n",
       "      <th>bath</th>\n",
       "      <th>balcony</th>\n",
       "      <th>price</th>\n",
       "    </tr>\n",
       "  </thead>\n",
       "  <tbody>\n",
       "    <tr>\n",
       "      <th>0</th>\n",
       "      <td>Electronic City Phase II</td>\n",
       "      <td>2 BHK</td>\n",
       "      <td>1056.0</td>\n",
       "      <td>2.0</td>\n",
       "      <td>1.0</td>\n",
       "      <td>39.07</td>\n",
       "    </tr>\n",
       "    <tr>\n",
       "      <th>1</th>\n",
       "      <td>Chikka Tirupathi</td>\n",
       "      <td>4 BHK</td>\n",
       "      <td>2600.0</td>\n",
       "      <td>5.0</td>\n",
       "      <td>3.0</td>\n",
       "      <td>120.00</td>\n",
       "    </tr>\n",
       "    <tr>\n",
       "      <th>2</th>\n",
       "      <td>Uttarahalli</td>\n",
       "      <td>3 BHK</td>\n",
       "      <td>1440.0</td>\n",
       "      <td>2.0</td>\n",
       "      <td>3.0</td>\n",
       "      <td>62.00</td>\n",
       "    </tr>\n",
       "    <tr>\n",
       "      <th>3</th>\n",
       "      <td>Lingadheeranahalli</td>\n",
       "      <td>3 BHK</td>\n",
       "      <td>1521.0</td>\n",
       "      <td>3.0</td>\n",
       "      <td>1.0</td>\n",
       "      <td>95.00</td>\n",
       "    </tr>\n",
       "    <tr>\n",
       "      <th>4</th>\n",
       "      <td>Kothanur</td>\n",
       "      <td>2 BHK</td>\n",
       "      <td>1200.0</td>\n",
       "      <td>2.0</td>\n",
       "      <td>1.0</td>\n",
       "      <td>51.00</td>\n",
       "    </tr>\n",
       "  </tbody>\n",
       "</table>\n",
       "</div>"
      ],
      "text/plain": [
       "                   location   size  total_sqft  bath  balcony   price\n",
       "0  Electronic City Phase II  2 BHK      1056.0   2.0      1.0   39.07\n",
       "1          Chikka Tirupathi  4 BHK      2600.0   5.0      3.0  120.00\n",
       "2               Uttarahalli  3 BHK      1440.0   2.0      3.0   62.00\n",
       "3        Lingadheeranahalli  3 BHK      1521.0   3.0      1.0   95.00\n",
       "4                  Kothanur  2 BHK      1200.0   2.0      1.0   51.00"
      ]
     },
     "execution_count": 60,
     "metadata": {},
     "output_type": "execute_result"
    }
   ],
   "source": [
    "df.head()"
   ]
  },
  {
   "cell_type": "code",
   "execution_count": 61,
   "id": "2f6fcec6",
   "metadata": {},
   "outputs": [
    {
     "data": {
      "text/plain": [
       "location      0\n",
       "size          0\n",
       "total_sqft    0\n",
       "bath          0\n",
       "balcony       0\n",
       "price         0\n",
       "dtype: int64"
      ]
     },
     "execution_count": 61,
     "metadata": {},
     "output_type": "execute_result"
    }
   ],
   "source": [
    "df.isnull().sum()"
   ]
  },
  {
   "cell_type": "code",
   "execution_count": 62,
   "id": "6627ca84",
   "metadata": {},
   "outputs": [
    {
     "data": {
      "text/plain": [
       "<seaborn.axisgrid.FacetGrid at 0x127c956d0>"
      ]
     },
     "execution_count": 62,
     "metadata": {},
     "output_type": "execute_result"
    },
    {
     "data": {
      "image/png": "[encoded data removed]",
      "text/plain": [
       "<Figure size 360x360 with 1 Axes>"
      ]
     },
     "metadata": {
      "needs_background": "light"
     },
     "output_type": "display_data"
    }
   ],
   "source": [
    "g=sns.catplot(data=df,x=\"size\",y=\"price\")\n",
    "g.set_xticklabels(rotation=90)"
   ]
  },
  {
   "cell_type": "code",
   "execution_count": 63,
   "id": "35be5f49",
   "metadata": {},
   "outputs": [],
   "source": [
    "df[\"BHK\"]=df[\"size\"].str.split(\" \").str[0]"
   ]
  },
  {
   "cell_type": "code",
   "execution_count": 64,
   "id": "8c511743",
   "metadata": {},
   "outputs": [],
   "source": [
    "df[\"BHK\"]=df[\"BHK\"].astype(int)"
   ]
  },
  {
   "cell_type": "code",
   "execution_count": 65,
   "id": "395cd89a",
   "metadata": {},
   "outputs": [],
   "source": [
    "df=df[df[\"BHK\"]<11]"
   ]
  },
  {
   "cell_type": "code",
   "execution_count": 66,
   "id": "9bc7d0ea",
   "metadata": {},
   "outputs": [
    {
     "data": {
      "text/plain": [
       "(13307, 7)"
      ]
     },
     "execution_count": 66,
     "metadata": {},
     "output_type": "execute_result"
    }
   ],
   "source": [
    "df.shape"
   ]
  },
  {
   "cell_type": "code",
   "execution_count": 67,
   "id": "d6cfe9af",
   "metadata": {},
   "outputs": [
    {
     "data": {
      "text/plain": [
       "Whitefield                  540\n",
       "Sarjapur  Road              399\n",
       "Electronic City             302\n",
       "Kanakpura Road              273\n",
       "Thanisandra                 234\n",
       "Yelahanka                   213\n",
       "Uttarahalli                 186\n",
       "Hebbal                      177\n",
       "Marathahalli                175\n",
       "Raja Rajeshwari Nagar       171\n",
       "Hennur Road                 152\n",
       "Bannerghatta Road           152\n",
       "7th Phase JP Nagar          149\n",
       "Haralur Road                142\n",
       "Electronic City Phase II    132\n",
       "Rajaji Nagar                107\n",
       "Chandapura                  100\n",
       "Bellandur                    96\n",
       "KR Puram                     91\n",
       "Electronics City Phase 1     88\n",
       "Hoodi                        88\n",
       "Yeshwanthpur                 85\n",
       "Begur Road                   84\n",
       "Sarjapur                     82\n",
       "Kasavanhalli                 80\n",
       "Harlur                       79\n",
       "Banashankari                 75\n",
       "Hormavu                      74\n",
       "Ramamurthy Nagar             73\n",
       "Kengeri                      73\n",
       "Koramangala                  72\n",
       "JP Nagar                     72\n",
       "Hosa Road                    72\n",
       "Old Madras Road              71\n",
       "Jakkur                       71\n",
       "Varthur                      70\n",
       "Kothanur                     66\n",
       "Kaggadasapura                64\n",
       "Nagarbhavi                   63\n",
       "Akshaya Nagar                62\n",
       "Thigalarapalya               62\n",
       "TC Palaya                    60\n",
       "Malleshwaram                 58\n",
       "8th Phase JP Nagar           57\n",
       "Rachenahalli                 56\n",
       "Hennur                       55\n",
       "Budigere                     54\n",
       "Jigani                       54\n",
       "HSR Layout                   53\n",
       "Jalahalli                    52\n",
       "Hulimavu                     52\n",
       "Bisuvanahalli                51\n",
       "Panathur                     51\n",
       "Ramagondanahalli             50\n",
       "Hegde Nagar                  49\n",
       "Mysore Road                  49\n",
       "Bhoganhalli                  49\n",
       "Gottigere                    48\n",
       "Hosur Road                   47\n",
       "Kundalahalli                 47\n",
       "Name: location, dtype: int64"
      ]
     },
     "execution_count": 67,
     "metadata": {},
     "output_type": "execute_result"
    }
   ],
   "source": [
    "df[\"location\"].value_counts().sort_values(ascending=False).head(60)"
   ]
  },
  {
   "cell_type": "code",
   "execution_count": 68,
   "id": "e1b98264",
   "metadata": {},
   "outputs": [],
   "source": [
    "location_idex=df[\"location\"].value_counts().sort_values(ascending=False).head(80).index"
   ]
  },
  {
   "cell_type": "code",
   "execution_count": 69,
   "id": "4cb44e77",
   "metadata": {},
   "outputs": [
    {
     "data": {
      "text/plain": [
       "Index(['Whitefield', 'Sarjapur  Road', 'Electronic City', 'Kanakpura Road',\n",
       "       'Thanisandra', 'Yelahanka', 'Uttarahalli', 'Hebbal', 'Marathahalli',\n",
       "       'Raja Rajeshwari Nagar', 'Hennur Road', 'Bannerghatta Road',\n",
       "       '7th Phase JP Nagar', 'Haralur Road', 'Electronic City Phase II',\n",
       "       'Rajaji Nagar', 'Chandapura', 'Bellandur', 'KR Puram',\n",
       "       'Electronics City Phase 1', 'Hoodi', 'Yeshwanthpur', 'Begur Road',\n",
       "       'Sarjapur', 'Kasavanhalli', 'Harlur', 'Banashankari', 'Hormavu',\n",
       "       'Ramamurthy Nagar', 'Kengeri', 'Koramangala', 'JP Nagar', 'Hosa Road',\n",
       "       'Old Madras Road', 'Jakkur', 'Varthur', 'Kothanur', 'Kaggadasapura',\n",
       "       'Nagarbhavi', 'Akshaya Nagar', 'Thigalarapalya', 'TC Palaya',\n",
       "       'Malleshwaram', '8th Phase JP Nagar', 'Rachenahalli', 'Hennur',\n",
       "       'Budigere', 'Jigani', 'HSR Layout', 'Jalahalli', 'Hulimavu',\n",
       "       'Bisuvanahalli', 'Panathur', 'Ramagondanahalli', 'Hegde Nagar',\n",
       "       'Mysore Road', 'Bhoganhalli', 'Gottigere', 'Hosur Road', 'Kundalahalli',\n",
       "       'Brookefield', 'Devanahalli', 'Balagere', 'Indira Nagar',\n",
       "       'CV Raman Nagar', 'Vidyaranyapura', 'Vittasandra', '9th Phase JP Nagar',\n",
       "       'Subramanyapura', 'Horamavu Agara', 'Vijayanagar', 'Kadugodi',\n",
       "       'Kanakapura', 'Attibele', 'Yelahanka New Town',\n",
       "       'Kengeri Satellite Town', 'Talaghattapura', '5th Phase JP Nagar',\n",
       "       'Green Glen Layout', 'Kudlu Gate'],\n",
       "      dtype='object')"
      ]
     },
     "execution_count": 69,
     "metadata": {},
     "output_type": "execute_result"
    }
   ],
   "source": [
    "location_idex"
   ]
  },
  {
   "cell_type": "code",
   "execution_count": 70,
   "id": "fb539382",
   "metadata": {},
   "outputs": [],
   "source": [
    "location_idex=['Whitefield', 'Sarjapur  Road', 'Electronic City', 'Kanakpura Road',\n",
    "       'Yelahanka', 'Uttarahalli', 'Hebbal', 'Marathahalli',\n",
    "       'Raja Rajeshwari Nagar','Bannerghatta Road',\n",
    "       '7th Phase JP Nagar', 'Electronic City Phase II',\n",
    "       'Rajaji Nagar', 'Bellandur', 'KR Puram',\n",
    "       'Electronics City Phase 1', 'Yeshwanthpur', 'Sarjapur',\n",
    "       'Banashankari','Kengeri', 'Koramangala', 'JP Nagar','Malleshwaram',\n",
    "       '8th Phase JP Nagar','HSR Layout','Mysore Road','Hosur Road', 'Brookefield',\n",
    "       'Indira Nagar', 'CV Raman Nagar',]"
   ]
  },
  {
   "cell_type": "code",
   "execution_count": 71,
   "id": "1a2dea21",
   "metadata": {},
   "outputs": [
    {
     "data": {
      "text/plain": [
       "30"
      ]
     },
     "execution_count": 71,
     "metadata": {},
     "output_type": "execute_result"
    }
   ],
   "source": [
    "len(location_idex)"
   ]
  },
  {
   "cell_type": "code",
   "execution_count": 72,
   "id": "8366d596",
   "metadata": {},
   "outputs": [],
   "source": [
    "df=df[df[\"location\"].isin(location_idex)]"
   ]
  },
  {
   "cell_type": "code",
   "execution_count": 73,
   "id": "4a3079bf",
   "metadata": {},
   "outputs": [
    {
     "data": {
      "text/plain": [
       "(4108, 7)"
      ]
     },
     "execution_count": 73,
     "metadata": {},
     "output_type": "execute_result"
    }
   ],
   "source": [
    "df.shape"
   ]
  },
  {
   "cell_type": "code",
   "execution_count": 74,
   "id": "b5ac3047",
   "metadata": {},
   "outputs": [],
   "source": [
    "for area in location_idex:\n",
    "    df[area]=np.where(df[\"location\"]==area,1,0)"
   ]
  },
  {
   "cell_type": "code",
   "execution_count": 75,
   "id": "a2038c10",
   "metadata": {},
   "outputs": [
    {
     "data": {
      "text/html": [
       "<div>\n",
       "<style scoped>\n",
       "    .dataframe tbody tr th:only-of-type {\n",
       "        vertical-align: middle;\n",
       "    }\n",
       "\n",
       "    .dataframe tbody tr th {\n",
       "        vertical-align: top;\n",
       "    }\n",
       "\n",
       "    .dataframe thead th {\n",
       "        text-align: right;\n",
       "    }\n",
       "</style>\n",
       "<table border=\"1\" class=\"dataframe\">\n",
       "  <thead>\n",
       "    <tr style=\"text-align: right;\">\n",
       "      <th></th>\n",
       "      <th>location</th>\n",
       "      <th>size</th>\n",
       "      <th>total_sqft</th>\n",
       "      <th>bath</th>\n",
       "      <th>balcony</th>\n",
       "      <th>price</th>\n",
       "      <th>BHK</th>\n",
       "      <th>Whitefield</th>\n",
       "      <th>Sarjapur  Road</th>\n",
       "      <th>Electronic City</th>\n",
       "      <th>Kanakpura Road</th>\n",
       "      <th>Yelahanka</th>\n",
       "      <th>Uttarahalli</th>\n",
       "      <th>Hebbal</th>\n",
       "      <th>Marathahalli</th>\n",
       "      <th>Raja Rajeshwari Nagar</th>\n",
       "      <th>Bannerghatta Road</th>\n",
       "      <th>7th Phase JP Nagar</th>\n",
       "      <th>Electronic City Phase II</th>\n",
       "      <th>Rajaji Nagar</th>\n",
       "      <th>Bellandur</th>\n",
       "      <th>KR Puram</th>\n",
       "      <th>Electronics City Phase 1</th>\n",
       "      <th>Yeshwanthpur</th>\n",
       "      <th>Sarjapur</th>\n",
       "      <th>Banashankari</th>\n",
       "      <th>Kengeri</th>\n",
       "      <th>Koramangala</th>\n",
       "      <th>JP Nagar</th>\n",
       "      <th>Malleshwaram</th>\n",
       "      <th>8th Phase JP Nagar</th>\n",
       "      <th>HSR Layout</th>\n",
       "      <th>Mysore Road</th>\n",
       "      <th>Hosur Road</th>\n",
       "      <th>Brookefield</th>\n",
       "      <th>Indira Nagar</th>\n",
       "      <th>CV Raman Nagar</th>\n",
       "    </tr>\n",
       "  </thead>\n",
       "  <tbody>\n",
       "    <tr>\n",
       "      <th>0</th>\n",
       "      <td>Electronic City Phase II</td>\n",
       "      <td>2 BHK</td>\n",
       "      <td>1056.0</td>\n",
       "      <td>2.0</td>\n",
       "      <td>1.0</td>\n",
       "      <td>39.07</td>\n",
       "      <td>2</td>\n",
       "      <td>0</td>\n",
       "      <td>0</td>\n",
       "      <td>0</td>\n",
       "      <td>0</td>\n",
       "      <td>0</td>\n",
       "      <td>0</td>\n",
       "      <td>0</td>\n",
       "      <td>0</td>\n",
       "      <td>0</td>\n",
       "      <td>0</td>\n",
       "      <td>0</td>\n",
       "      <td>1</td>\n",
       "      <td>0</td>\n",
       "      <td>0</td>\n",
       "      <td>0</td>\n",
       "      <td>0</td>\n",
       "      <td>0</td>\n",
       "      <td>0</td>\n",
       "      <td>0</td>\n",
       "      <td>0</td>\n",
       "      <td>0</td>\n",
       "      <td>0</td>\n",
       "      <td>0</td>\n",
       "      <td>0</td>\n",
       "      <td>0</td>\n",
       "      <td>0</td>\n",
       "      <td>0</td>\n",
       "      <td>0</td>\n",
       "      <td>0</td>\n",
       "      <td>0</td>\n",
       "    </tr>\n",
       "    <tr>\n",
       "      <th>2</th>\n",
       "      <td>Uttarahalli</td>\n",
       "      <td>3 BHK</td>\n",
       "      <td>1440.0</td>\n",
       "      <td>2.0</td>\n",
       "      <td>3.0</td>\n",
       "      <td>62.00</td>\n",
       "      <td>3</td>\n",
       "      <td>0</td>\n",
       "      <td>0</td>\n",
       "      <td>0</td>\n",
       "      <td>0</td>\n",
       "      <td>0</td>\n",
       "      <td>1</td>\n",
       "      <td>0</td>\n",
       "      <td>0</td>\n",
       "      <td>0</td>\n",
       "      <td>0</td>\n",
       "      <td>0</td>\n",
       "      <td>0</td>\n",
       "      <td>0</td>\n",
       "      <td>0</td>\n",
       "      <td>0</td>\n",
       "      <td>0</td>\n",
       "      <td>0</td>\n",
       "      <td>0</td>\n",
       "      <td>0</td>\n",
       "      <td>0</td>\n",
       "      <td>0</td>\n",
       "      <td>0</td>\n",
       "      <td>0</td>\n",
       "      <td>0</td>\n",
       "      <td>0</td>\n",
       "      <td>0</td>\n",
       "      <td>0</td>\n",
       "      <td>0</td>\n",
       "      <td>0</td>\n",
       "      <td>0</td>\n",
       "    </tr>\n",
       "    <tr>\n",
       "      <th>5</th>\n",
       "      <td>Whitefield</td>\n",
       "      <td>2 BHK</td>\n",
       "      <td>1170.0</td>\n",
       "      <td>2.0</td>\n",
       "      <td>1.0</td>\n",
       "      <td>38.00</td>\n",
       "      <td>2</td>\n",
       "      <td>1</td>\n",
       "      <td>0</td>\n",
       "      <td>0</td>\n",
       "      <td>0</td>\n",
       "      <td>0</td>\n",
       "      <td>0</td>\n",
       "      <td>0</td>\n",
       "      <td>0</td>\n",
       "      <td>0</td>\n",
       "      <td>0</td>\n",
       "      <td>0</td>\n",
       "      <td>0</td>\n",
       "      <td>0</td>\n",
       "      <td>0</td>\n",
       "      <td>0</td>\n",
       "      <td>0</td>\n",
       "      <td>0</td>\n",
       "      <td>0</td>\n",
       "      <td>0</td>\n",
       "      <td>0</td>\n",
       "      <td>0</td>\n",
       "      <td>0</td>\n",
       "      <td>0</td>\n",
       "      <td>0</td>\n",
       "      <td>0</td>\n",
       "      <td>0</td>\n",
       "      <td>0</td>\n",
       "      <td>0</td>\n",
       "      <td>0</td>\n",
       "      <td>0</td>\n",
       "    </tr>\n",
       "    <tr>\n",
       "      <th>7</th>\n",
       "      <td>Rajaji Nagar</td>\n",
       "      <td>4 BHK</td>\n",
       "      <td>3300.0</td>\n",
       "      <td>4.0</td>\n",
       "      <td>2.0</td>\n",
       "      <td>600.00</td>\n",
       "      <td>4</td>\n",
       "      <td>0</td>\n",
       "      <td>0</td>\n",
       "      <td>0</td>\n",
       "      <td>0</td>\n",
       "      <td>0</td>\n",
       "      <td>0</td>\n",
       "      <td>0</td>\n",
       "      <td>0</td>\n",
       "      <td>0</td>\n",
       "      <td>0</td>\n",
       "      <td>0</td>\n",
       "      <td>0</td>\n",
       "      <td>1</td>\n",
       "      <td>0</td>\n",
       "      <td>0</td>\n",
       "      <td>0</td>\n",
       "      <td>0</td>\n",
       "      <td>0</td>\n",
       "      <td>0</td>\n",
       "      <td>0</td>\n",
       "      <td>0</td>\n",
       "      <td>0</td>\n",
       "      <td>0</td>\n",
       "      <td>0</td>\n",
       "      <td>0</td>\n",
       "      <td>0</td>\n",
       "      <td>0</td>\n",
       "      <td>0</td>\n",
       "      <td>0</td>\n",
       "      <td>0</td>\n",
       "    </tr>\n",
       "    <tr>\n",
       "      <th>8</th>\n",
       "      <td>Marathahalli</td>\n",
       "      <td>3 BHK</td>\n",
       "      <td>1310.0</td>\n",
       "      <td>3.0</td>\n",
       "      <td>1.0</td>\n",
       "      <td>63.25</td>\n",
       "      <td>3</td>\n",
       "      <td>0</td>\n",
       "      <td>0</td>\n",
       "      <td>0</td>\n",
       "      <td>0</td>\n",
       "      <td>0</td>\n",
       "      <td>0</td>\n",
       "      <td>0</td>\n",
       "      <td>1</td>\n",
       "      <td>0</td>\n",
       "      <td>0</td>\n",
       "      <td>0</td>\n",
       "      <td>0</td>\n",
       "      <td>0</td>\n",
       "      <td>0</td>\n",
       "      <td>0</td>\n",
       "      <td>0</td>\n",
       "      <td>0</td>\n",
       "      <td>0</td>\n",
       "      <td>0</td>\n",
       "      <td>0</td>\n",
       "      <td>0</td>\n",
       "      <td>0</td>\n",
       "      <td>0</td>\n",
       "      <td>0</td>\n",
       "      <td>0</td>\n",
       "      <td>0</td>\n",
       "      <td>0</td>\n",
       "      <td>0</td>\n",
       "      <td>0</td>\n",
       "      <td>0</td>\n",
       "    </tr>\n",
       "  </tbody>\n",
       "</table>\n",
       "</div>"
      ],
      "text/plain": [
       "                   location   size  total_sqft  bath  balcony   price  BHK  \\\n",
       "0  Electronic City Phase II  2 BHK      1056.0   2.0      1.0   39.07    2   \n",
       "2               Uttarahalli  3 BHK      1440.0   2.0      3.0   62.00    3   \n",
       "5                Whitefield  2 BHK      1170.0   2.0      1.0   38.00    2   \n",
       "7              Rajaji Nagar  4 BHK      3300.0   4.0      2.0  600.00    4   \n",
       "8              Marathahalli  3 BHK      1310.0   3.0      1.0   63.25    3   \n",
       "\n",
       "   Whitefield  Sarjapur  Road  Electronic City  Kanakpura Road  Yelahanka  \\\n",
       "0           0               0                0               0          0   \n",
       "2           0               0                0               0          0   \n",
       "5           1               0                0               0          0   \n",
       "7           0               0                0               0          0   \n",
       "8           0               0                0               0          0   \n",
       "\n",
       "   Uttarahalli  Hebbal  Marathahalli  Raja Rajeshwari Nagar  \\\n",
       "0            0       0             0                      0   \n",
       "2            1       0             0                      0   \n",
       "5            0       0             0                      0   \n",
       "7            0       0             0                      0   \n",
       "8            0       0             1                      0   \n",
       "\n",
       "   Bannerghatta Road  7th Phase JP Nagar  Electronic City Phase II  \\\n",
       "0                  0                   0                         1   \n",
       "2                  0                   0                         0   \n",
       "5                  0                   0                         0   \n",
       "7                  0                   0                         0   \n",
       "8                  0                   0                         0   \n",
       "\n",
       "   Rajaji Nagar  Bellandur  KR Puram  Electronics City Phase 1  Yeshwanthpur  \\\n",
       "0             0          0         0                         0             0   \n",
       "2             0          0         0                         0             0   \n",
       "5             0          0         0                         0             0   \n",
       "7             1          0         0                         0             0   \n",
       "8             0          0         0                         0             0   \n",
       "\n",
       "   Sarjapur  Banashankari  Kengeri  Koramangala  JP Nagar  Malleshwaram  \\\n",
       "0         0             0        0            0         0             0   \n",
       "2         0             0        0            0         0             0   \n",
       "5         0             0        0            0         0             0   \n",
       "7         0             0        0            0         0             0   \n",
       "8         0             0        0            0         0             0   \n",
       "\n",
       "   8th Phase JP Nagar  HSR Layout  Mysore Road  Hosur Road  Brookefield  \\\n",
       "0                   0           0            0           0            0   \n",
       "2                   0           0            0           0            0   \n",
       "5                   0           0            0           0            0   \n",
       "7                   0           0            0           0            0   \n",
       "8                   0           0            0           0            0   \n",
       "\n",
       "   Indira Nagar  CV Raman Nagar  \n",
       "0             0               0  \n",
       "2             0               0  \n",
       "5             0               0  \n",
       "7             0               0  \n",
       "8             0               0  "
      ]
     },
     "execution_count": 75,
     "metadata": {},
     "output_type": "execute_result"
    }
   ],
   "source": [
    "df.head()"
   ]
  },
  {
   "cell_type": "code",
   "execution_count": 76,
   "id": "697856ca",
   "metadata": {},
   "outputs": [],
   "source": [
    "df.drop(columns=[\"location\",\"size\"],inplace=True)"
   ]
  },
  {
   "cell_type": "code",
   "execution_count": 77,
   "id": "e515ec83",
   "metadata": {},
   "outputs": [
    {
     "data": {
      "text/plain": [
       "Index(['total_sqft', 'bath', 'balcony', 'price', 'BHK', 'Whitefield',\n",
       "       'Sarjapur  Road', 'Electronic City', 'Kanakpura Road', 'Yelahanka',\n",
       "       'Uttarahalli', 'Hebbal', 'Marathahalli', 'Raja Rajeshwari Nagar',\n",
       "       'Bannerghatta Road', '7th Phase JP Nagar', 'Electronic City Phase II',\n",
       "       'Rajaji Nagar', 'Bellandur', 'KR Puram', 'Electronics City Phase 1',\n",
       "       'Yeshwanthpur', 'Sarjapur', 'Banashankari', 'Kengeri', 'Koramangala',\n",
       "       'JP Nagar', 'Malleshwaram', '8th Phase JP Nagar', 'HSR Layout',\n",
       "       'Mysore Road', 'Hosur Road', 'Brookefield', 'Indira Nagar',\n",
       "       'CV Raman Nagar'],\n",
       "      dtype='object')"
      ]
     },
     "execution_count": 77,
     "metadata": {},
     "output_type": "execute_result"
    }
   ],
   "source": [
    "df.columns"
   ]
  },
  {
   "cell_type": "code",
   "execution_count": 78,
   "id": "9457e39b",
   "metadata": {},
   "outputs": [],
   "source": [
    "df=df[['Whitefield',\n",
    "       'Sarjapur  Road', 'Electronic City', 'Kanakpura Road', 'Yelahanka',\n",
    "       'Uttarahalli', 'Hebbal', 'Marathahalli', 'Raja Rajeshwari Nagar',\n",
    "       'Bannerghatta Road', '7th Phase JP Nagar', 'Electronic City Phase II',\n",
    "       'Rajaji Nagar', 'Bellandur', 'KR Puram', 'Electronics City Phase 1',\n",
    "       'Yeshwanthpur', 'Sarjapur', 'Banashankari', 'Kengeri', 'Koramangala',\n",
    "       'JP Nagar', 'Malleshwaram', '8th Phase JP Nagar', 'HSR Layout',\n",
    "       'Mysore Road', 'Hosur Road', 'Brookefield', 'Indira Nagar',\n",
    "       'CV Raman Nagar','BHK','total_sqft', 'bath', 'balcony', 'price']]\n"
   ]
  },
  {
   "cell_type": "code",
   "execution_count": 79,
   "id": "76bbcc4c",
   "metadata": {},
   "outputs": [
    {
     "data": {
      "text/html": [
       "<div>\n",
       "<style scoped>\n",
       "    .dataframe tbody tr th:only-of-type {\n",
       "        vertical-align: middle;\n",
       "    }\n",
       "\n",
       "    .dataframe tbody tr th {\n",
       "        vertical-align: top;\n",
       "    }\n",
       "\n",
       "    .dataframe thead th {\n",
       "        text-align: right;\n",
       "    }\n",
       "</style>\n",
       "<table border=\"1\" class=\"dataframe\">\n",
       "  <thead>\n",
       "    <tr style=\"text-align: right;\">\n",
       "      <th></th>\n",
       "      <th>Whitefield</th>\n",
       "      <th>Sarjapur  Road</th>\n",
       "      <th>Electronic City</th>\n",
       "      <th>Kanakpura Road</th>\n",
       "      <th>Yelahanka</th>\n",
       "      <th>Uttarahalli</th>\n",
       "      <th>Hebbal</th>\n",
       "      <th>Marathahalli</th>\n",
       "      <th>Raja Rajeshwari Nagar</th>\n",
       "      <th>Bannerghatta Road</th>\n",
       "      <th>7th Phase JP Nagar</th>\n",
       "      <th>Electronic City Phase II</th>\n",
       "      <th>Rajaji Nagar</th>\n",
       "      <th>Bellandur</th>\n",
       "      <th>KR Puram</th>\n",
       "      <th>Electronics City Phase 1</th>\n",
       "      <th>Yeshwanthpur</th>\n",
       "      <th>Sarjapur</th>\n",
       "      <th>Banashankari</th>\n",
       "      <th>Kengeri</th>\n",
       "      <th>Koramangala</th>\n",
       "      <th>JP Nagar</th>\n",
       "      <th>Malleshwaram</th>\n",
       "      <th>8th Phase JP Nagar</th>\n",
       "      <th>HSR Layout</th>\n",
       "      <th>Mysore Road</th>\n",
       "      <th>Hosur Road</th>\n",
       "      <th>Brookefield</th>\n",
       "      <th>Indira Nagar</th>\n",
       "      <th>CV Raman Nagar</th>\n",
       "      <th>BHK</th>\n",
       "      <th>total_sqft</th>\n",
       "      <th>bath</th>\n",
       "      <th>balcony</th>\n",
       "      <th>price</th>\n",
       "    </tr>\n",
       "  </thead>\n",
       "  <tbody>\n",
       "    <tr>\n",
       "      <th>0</th>\n",
       "      <td>0</td>\n",
       "      <td>0</td>\n",
       "      <td>0</td>\n",
       "      <td>0</td>\n",
       "      <td>0</td>\n",
       "      <td>0</td>\n",
       "      <td>0</td>\n",
       "      <td>0</td>\n",
       "      <td>0</td>\n",
       "      <td>0</td>\n",
       "      <td>0</td>\n",
       "      <td>1</td>\n",
       "      <td>0</td>\n",
       "      <td>0</td>\n",
       "      <td>0</td>\n",
       "      <td>0</td>\n",
       "      <td>0</td>\n",
       "      <td>0</td>\n",
       "      <td>0</td>\n",
       "      <td>0</td>\n",
       "      <td>0</td>\n",
       "      <td>0</td>\n",
       "      <td>0</td>\n",
       "      <td>0</td>\n",
       "      <td>0</td>\n",
       "      <td>0</td>\n",
       "      <td>0</td>\n",
       "      <td>0</td>\n",
       "      <td>0</td>\n",
       "      <td>0</td>\n",
       "      <td>2</td>\n",
       "      <td>1056.0</td>\n",
       "      <td>2.0</td>\n",
       "      <td>1.0</td>\n",
       "      <td>39.07</td>\n",
       "    </tr>\n",
       "    <tr>\n",
       "      <th>2</th>\n",
       "      <td>0</td>\n",
       "      <td>0</td>\n",
       "      <td>0</td>\n",
       "      <td>0</td>\n",
       "      <td>0</td>\n",
       "      <td>1</td>\n",
       "      <td>0</td>\n",
       "      <td>0</td>\n",
       "      <td>0</td>\n",
       "      <td>0</td>\n",
       "      <td>0</td>\n",
       "      <td>0</td>\n",
       "      <td>0</td>\n",
       "      <td>0</td>\n",
       "      <td>0</td>\n",
       "      <td>0</td>\n",
       "      <td>0</td>\n",
       "      <td>0</td>\n",
       "      <td>0</td>\n",
       "      <td>0</td>\n",
       "      <td>0</td>\n",
       "      <td>0</td>\n",
       "      <td>0</td>\n",
       "      <td>0</td>\n",
       "      <td>0</td>\n",
       "      <td>0</td>\n",
       "      <td>0</td>\n",
       "      <td>0</td>\n",
       "      <td>0</td>\n",
       "      <td>0</td>\n",
       "      <td>3</td>\n",
       "      <td>1440.0</td>\n",
       "      <td>2.0</td>\n",
       "      <td>3.0</td>\n",
       "      <td>62.00</td>\n",
       "    </tr>\n",
       "    <tr>\n",
       "      <th>5</th>\n",
       "      <td>1</td>\n",
       "      <td>0</td>\n",
       "      <td>0</td>\n",
       "      <td>0</td>\n",
       "      <td>0</td>\n",
       "      <td>0</td>\n",
       "      <td>0</td>\n",
       "      <td>0</td>\n",
       "      <td>0</td>\n",
       "      <td>0</td>\n",
       "      <td>0</td>\n",
       "      <td>0</td>\n",
       "      <td>0</td>\n",
       "      <td>0</td>\n",
       "      <td>0</td>\n",
       "      <td>0</td>\n",
       "      <td>0</td>\n",
       "      <td>0</td>\n",
       "      <td>0</td>\n",
       "      <td>0</td>\n",
       "      <td>0</td>\n",
       "      <td>0</td>\n",
       "      <td>0</td>\n",
       "      <td>0</td>\n",
       "      <td>0</td>\n",
       "      <td>0</td>\n",
       "      <td>0</td>\n",
       "      <td>0</td>\n",
       "      <td>0</td>\n",
       "      <td>0</td>\n",
       "      <td>2</td>\n",
       "      <td>1170.0</td>\n",
       "      <td>2.0</td>\n",
       "      <td>1.0</td>\n",
       "      <td>38.00</td>\n",
       "    </tr>\n",
       "    <tr>\n",
       "      <th>7</th>\n",
       "      <td>0</td>\n",
       "      <td>0</td>\n",
       "      <td>0</td>\n",
       "      <td>0</td>\n",
       "      <td>0</td>\n",
       "      <td>0</td>\n",
       "      <td>0</td>\n",
       "      <td>0</td>\n",
       "      <td>0</td>\n",
       "      <td>0</td>\n",
       "      <td>0</td>\n",
       "      <td>0</td>\n",
       "      <td>1</td>\n",
       "      <td>0</td>\n",
       "      <td>0</td>\n",
       "      <td>0</td>\n",
       "      <td>0</td>\n",
       "      <td>0</td>\n",
       "      <td>0</td>\n",
       "      <td>0</td>\n",
       "      <td>0</td>\n",
       "      <td>0</td>\n",
       "      <td>0</td>\n",
       "      <td>0</td>\n",
       "      <td>0</td>\n",
       "      <td>0</td>\n",
       "      <td>0</td>\n",
       "      <td>0</td>\n",
       "      <td>0</td>\n",
       "      <td>0</td>\n",
       "      <td>4</td>\n",
       "      <td>3300.0</td>\n",
       "      <td>4.0</td>\n",
       "      <td>2.0</td>\n",
       "      <td>600.00</td>\n",
       "    </tr>\n",
       "    <tr>\n",
       "      <th>8</th>\n",
       "      <td>0</td>\n",
       "      <td>0</td>\n",
       "      <td>0</td>\n",
       "      <td>0</td>\n",
       "      <td>0</td>\n",
       "      <td>0</td>\n",
       "      <td>0</td>\n",
       "      <td>1</td>\n",
       "      <td>0</td>\n",
       "      <td>0</td>\n",
       "      <td>0</td>\n",
       "      <td>0</td>\n",
       "      <td>0</td>\n",
       "      <td>0</td>\n",
       "      <td>0</td>\n",
       "      <td>0</td>\n",
       "      <td>0</td>\n",
       "      <td>0</td>\n",
       "      <td>0</td>\n",
       "      <td>0</td>\n",
       "      <td>0</td>\n",
       "      <td>0</td>\n",
       "      <td>0</td>\n",
       "      <td>0</td>\n",
       "      <td>0</td>\n",
       "      <td>0</td>\n",
       "      <td>0</td>\n",
       "      <td>0</td>\n",
       "      <td>0</td>\n",
       "      <td>0</td>\n",
       "      <td>3</td>\n",
       "      <td>1310.0</td>\n",
       "      <td>3.0</td>\n",
       "      <td>1.0</td>\n",
       "      <td>63.25</td>\n",
       "    </tr>\n",
       "  </tbody>\n",
       "</table>\n",
       "</div>"
      ],
      "text/plain": [
       "   Whitefield  Sarjapur  Road  Electronic City  Kanakpura Road  Yelahanka  \\\n",
       "0           0               0                0               0          0   \n",
       "2           0               0                0               0          0   \n",
       "5           1               0                0               0          0   \n",
       "7           0               0                0               0          0   \n",
       "8           0               0                0               0          0   \n",
       "\n",
       "   Uttarahalli  Hebbal  Marathahalli  Raja Rajeshwari Nagar  \\\n",
       "0            0       0             0                      0   \n",
       "2            1       0             0                      0   \n",
       "5            0       0             0                      0   \n",
       "7            0       0             0                      0   \n",
       "8            0       0             1                      0   \n",
       "\n",
       "   Bannerghatta Road  7th Phase JP Nagar  Electronic City Phase II  \\\n",
       "0                  0                   0                         1   \n",
       "2                  0                   0                         0   \n",
       "5                  0                   0                         0   \n",
       "7                  0                   0                         0   \n",
       "8                  0                   0                         0   \n",
       "\n",
       "   Rajaji Nagar  Bellandur  KR Puram  Electronics City Phase 1  Yeshwanthpur  \\\n",
       "0             0          0         0                         0             0   \n",
       "2             0          0         0                         0             0   \n",
       "5             0          0         0                         0             0   \n",
       "7             1          0         0                         0             0   \n",
       "8             0          0         0                         0             0   \n",
       "\n",
       "   Sarjapur  Banashankari  Kengeri  Koramangala  JP Nagar  Malleshwaram  \\\n",
       "0         0             0        0            0         0             0   \n",
       "2         0             0        0            0         0             0   \n",
       "5         0             0        0            0         0             0   \n",
       "7         0             0        0            0         0             0   \n",
       "8         0             0        0            0         0             0   \n",
       "\n",
       "   8th Phase JP Nagar  HSR Layout  Mysore Road  Hosur Road  Brookefield  \\\n",
       "0                   0           0            0           0            0   \n",
       "2                   0           0            0           0            0   \n",
       "5                   0           0            0           0            0   \n",
       "7                   0           0            0           0            0   \n",
       "8                   0           0            0           0            0   \n",
       "\n",
       "   Indira Nagar  CV Raman Nagar  BHK  total_sqft  bath  balcony   price  \n",
       "0             0               0    2      1056.0   2.0      1.0   39.07  \n",
       "2             0               0    3      1440.0   2.0      3.0   62.00  \n",
       "5             0               0    2      1170.0   2.0      1.0   38.00  \n",
       "7             0               0    4      3300.0   4.0      2.0  600.00  \n",
       "8             0               0    3      1310.0   3.0      1.0   63.25  "
      ]
     },
     "execution_count": 79,
     "metadata": {},
     "output_type": "execute_result"
    }
   ],
   "source": [
    "df=df.iloc[:2500]\n",
    "df.head()"
   ]
  },
  {
   "cell_type": "code",
   "execution_count": 80,
   "id": "09b9bc6d",
   "metadata": {},
   "outputs": [],
   "source": [
    "X=df.drop(labels=[\"price\"],axis=1)\n",
    "y=df[\"price\"].values"
   ]
  },
  {
   "cell_type": "code",
   "execution_count": 81,
   "id": "b5d38700",
   "metadata": {},
   "outputs": [],
   "source": [
    "n_estimators=[int(x) for x in np.linspace(start=100,stop=1200,num=12)]\n",
    "max_features=[\"auto\",\"sqrt\"]\n",
    "max_depth=[int(x) for x in np.linspace(start=5,stop=30,num=6)]\n",
    "min_samples_split=[2,5,8,10,12,14]\n",
    "min_samples_leaf=[2,5,8,10]"
   ]
  },
  {
   "cell_type": "code",
   "execution_count": 82,
   "id": "71173aba",
   "metadata": {},
   "outputs": [],
   "source": [
    "param_grid={\"n_estimators\":n_estimators,\"max_features\":max_features,\"max_depth\":max_depth,\"min_samples_split\":min_samples_split,\"min_samples_leaf\":min_samples_leaf}"
   ]
  },
  {
   "cell_type": "code",
   "execution_count": 85,
   "id": "71892419",
   "metadata": {},
   "outputs": [],
   "source": [
    "from sklearn.model_selection import train_test_split\n",
    "X_train,X_test,y_train,y_test=train_test_split(X,y,test_size=0.3,random_state=42)"
   ]
  },
  {
   "cell_type": "code",
   "execution_count": 86,
   "id": "bb535304",
   "metadata": {},
   "outputs": [],
   "source": [
    "from sklearn.model_selection import RandomizedSearchCV"
   ]
  },
  {
   "cell_type": "code",
   "execution_count": 87,
   "id": "8ad8db60",
   "metadata": {},
   "outputs": [],
   "source": [
    "n_estimators=[int(x) for x in np.linspace(start=100,stop=1200,num=12)]\n",
    "max_features=[\"auto\",\"sqrt\"]\n",
    "max_depth=[int(x) for x in np.linspace(start=5,stop=30,num=6)]\n",
    "min_samples_split=[2,5,8,10,12,14]\n",
    "min_samples_leaf=[2,5,8,10]"
   ]
  },
  {
   "cell_type": "code",
   "execution_count": 88,
   "id": "7a66b0c9",
   "metadata": {},
   "outputs": [],
   "source": [
    "param_grid={\"n_estimators\":n_estimators,\"max_features\":max_features,\"max_depth\":max_depth,\"min_samples_split\":min_samples_split,\"min_samples_leaf\":min_samples_leaf}"
   ]
  },
  {
   "cell_type": "code",
   "execution_count": 89,
   "id": "58966ee6",
   "metadata": {},
   "outputs": [],
   "source": [
    "from sklearn.ensemble import RandomForestRegressor\n",
    "model_rf=RandomForestRegressor()"
   ]
  },
  {
   "cell_type": "code",
   "execution_count": 90,
   "id": "bc499558",
   "metadata": {},
   "outputs": [],
   "source": [
    "model=RandomizedSearchCV(estimator=model_rf,param_distributions=param_grid,scoring='neg_mean_squared_error',cv=5,verbose=2,random_state=42,n_jobs=1,n_iter = 10)"
   ]
  },
  {
   "cell_type": "code",
   "execution_count": 91,
   "id": "ce7a37e4",
   "metadata": {},
   "outputs": [
    {
     "name": "stdout",
     "output_type": "stream",
     "text": [
      "Fitting 5 folds for each of 10 candidates, totalling 50 fits\n",
      "[CV] END max_depth=30, max_features=sqrt, min_samples_leaf=2, min_samples_split=2, n_estimators=700; total time=   1.2s\n",
      "[CV] END max_depth=30, max_features=sqrt, min_samples_leaf=2, min_samples_split=2, n_estimators=700; total time=   1.2s\n",
      "[CV] END max_depth=30, max_features=sqrt, min_samples_leaf=2, min_samples_split=2, n_estimators=700; total time=   1.2s\n",
      "[CV] END max_depth=30, max_features=sqrt, min_samples_leaf=2, min_samples_split=2, n_estimators=700; total time=   1.1s\n",
      "[CV] END max_depth=30, max_features=sqrt, min_samples_leaf=2, min_samples_split=2, n_estimators=700; total time=   1.1s\n",
      "[CV] END max_depth=10, max_features=auto, min_samples_leaf=10, min_samples_split=14, n_estimators=900; total time=   2.1s\n",
      "[CV] END max_depth=10, max_features=auto, min_samples_leaf=10, min_samples_split=14, n_estimators=900; total time=   2.2s\n",
      "[CV] END max_depth=10, max_features=auto, min_samples_leaf=10, min_samples_split=14, n_estimators=900; total time=   2.2s\n",
      "[CV] END max_depth=10, max_features=auto, min_samples_leaf=10, min_samples_split=14, n_estimators=900; total time=   2.2s\n",
      "[CV] END max_depth=10, max_features=auto, min_samples_leaf=10, min_samples_split=14, n_estimators=900; total time=   2.1s\n",
      "[CV] END max_depth=15, max_features=auto, min_samples_leaf=5, min_samples_split=14, n_estimators=1100; total time=   2.7s\n",
      "[CV] END max_depth=15, max_features=auto, min_samples_leaf=5, min_samples_split=14, n_estimators=1100; total time=   2.7s\n",
      "[CV] END max_depth=15, max_features=auto, min_samples_leaf=5, min_samples_split=14, n_estimators=1100; total time=   2.7s\n",
      "[CV] END max_depth=15, max_features=auto, min_samples_leaf=5, min_samples_split=14, n_estimators=1100; total time=   2.7s\n",
      "[CV] END max_depth=15, max_features=auto, min_samples_leaf=5, min_samples_split=14, n_estimators=1100; total time=   2.7s\n",
      "[CV] END max_depth=10, max_features=sqrt, min_samples_leaf=10, min_samples_split=12, n_estimators=300; total time=   0.4s\n",
      "[CV] END max_depth=10, max_features=sqrt, min_samples_leaf=10, min_samples_split=12, n_estimators=300; total time=   0.4s\n",
      "[CV] END max_depth=10, max_features=sqrt, min_samples_leaf=10, min_samples_split=12, n_estimators=300; total time=   0.3s\n",
      "[CV] END max_depth=10, max_features=sqrt, min_samples_leaf=10, min_samples_split=12, n_estimators=300; total time=   0.4s\n",
      "[CV] END max_depth=10, max_features=sqrt, min_samples_leaf=10, min_samples_split=12, n_estimators=300; total time=   0.3s\n",
      "[CV] END max_depth=10, max_features=sqrt, min_samples_leaf=10, min_samples_split=5, n_estimators=400; total time=   0.5s\n",
      "[CV] END max_depth=10, max_features=sqrt, min_samples_leaf=10, min_samples_split=5, n_estimators=400; total time=   0.5s\n",
      "[CV] END max_depth=10, max_features=sqrt, min_samples_leaf=10, min_samples_split=5, n_estimators=400; total time=   0.4s\n",
      "[CV] END max_depth=10, max_features=sqrt, min_samples_leaf=10, min_samples_split=5, n_estimators=400; total time=   0.4s\n",
      "[CV] END max_depth=10, max_features=sqrt, min_samples_leaf=10, min_samples_split=5, n_estimators=400; total time=   0.4s\n",
      "[CV] END max_depth=30, max_features=auto, min_samples_leaf=8, min_samples_split=14, n_estimators=900; total time=   2.1s\n",
      "[CV] END max_depth=30, max_features=auto, min_samples_leaf=8, min_samples_split=14, n_estimators=900; total time=   2.0s\n",
      "[CV] END max_depth=30, max_features=auto, min_samples_leaf=8, min_samples_split=14, n_estimators=900; total time=   2.2s\n",
      "[CV] END max_depth=30, max_features=auto, min_samples_leaf=8, min_samples_split=14, n_estimators=900; total time=   2.2s\n",
      "[CV] END max_depth=30, max_features=auto, min_samples_leaf=8, min_samples_split=14, n_estimators=900; total time=   2.3s\n",
      "[CV] END max_depth=15, max_features=sqrt, min_samples_leaf=8, min_samples_split=12, n_estimators=700; total time=   0.8s\n",
      "[CV] END max_depth=15, max_features=sqrt, min_samples_leaf=8, min_samples_split=12, n_estimators=700; total time=   0.8s\n",
      "[CV] END max_depth=15, max_features=sqrt, min_samples_leaf=8, min_samples_split=12, n_estimators=700; total time=   0.8s\n",
      "[CV] END max_depth=15, max_features=sqrt, min_samples_leaf=8, min_samples_split=12, n_estimators=700; total time=   0.8s\n",
      "[CV] END max_depth=15, max_features=sqrt, min_samples_leaf=8, min_samples_split=12, n_estimators=700; total time=   0.8s\n",
      "[CV] END max_depth=20, max_features=sqrt, min_samples_leaf=8, min_samples_split=2, n_estimators=1000; total time=   1.1s\n",
      "[CV] END max_depth=20, max_features=sqrt, min_samples_leaf=8, min_samples_split=2, n_estimators=1000; total time=   1.2s\n",
      "[CV] END max_depth=20, max_features=sqrt, min_samples_leaf=8, min_samples_split=2, n_estimators=1000; total time=   1.1s\n",
      "[CV] END max_depth=20, max_features=sqrt, min_samples_leaf=8, min_samples_split=2, n_estimators=1000; total time=   1.2s\n",
      "[CV] END max_depth=20, max_features=sqrt, min_samples_leaf=8, min_samples_split=2, n_estimators=1000; total time=   1.2s\n",
      "[CV] END max_depth=5, max_features=sqrt, min_samples_leaf=8, min_samples_split=8, n_estimators=1100; total time=   1.1s\n",
      "[CV] END max_depth=5, max_features=sqrt, min_samples_leaf=8, min_samples_split=8, n_estimators=1100; total time=   1.1s\n",
      "[CV] END max_depth=5, max_features=sqrt, min_samples_leaf=8, min_samples_split=8, n_estimators=1100; total time=   1.1s\n",
      "[CV] END max_depth=5, max_features=sqrt, min_samples_leaf=8, min_samples_split=8, n_estimators=1100; total time=   1.1s\n",
      "[CV] END max_depth=5, max_features=sqrt, min_samples_leaf=8, min_samples_split=8, n_estimators=1100; total time=   1.1s\n",
      "[CV] END max_depth=15, max_features=auto, min_samples_leaf=5, min_samples_split=5, n_estimators=300; total time=   0.8s\n",
      "[CV] END max_depth=15, max_features=auto, min_samples_leaf=5, min_samples_split=5, n_estimators=300; total time=   0.8s\n",
      "[CV] END max_depth=15, max_features=auto, min_samples_leaf=5, min_samples_split=5, n_estimators=300; total time=   0.8s\n",
      "[CV] END max_depth=15, max_features=auto, min_samples_leaf=5, min_samples_split=5, n_estimators=300; total time=   0.8s\n",
      "[CV] END max_depth=15, max_features=auto, min_samples_leaf=5, min_samples_split=5, n_estimators=300; total time=   0.8s\n"
     ]
    },
    {
     "data": {
      "text/plain": [
       "RandomizedSearchCV(cv=5, estimator=RandomForestRegressor(), n_jobs=1,\n",
       "                   param_distributions={'max_depth': [5, 10, 15, 20, 25, 30],\n",
       "                                        'max_features': ['auto', 'sqrt'],\n",
       "                                        'min_samples_leaf': [2, 5, 8, 10],\n",
       "                                        'min_samples_split': [2, 5, 8, 10, 12,\n",
       "                                                              14],\n",
       "                                        'n_estimators': [100, 200, 300, 400,\n",
       "                                                         500, 600, 700, 800,\n",
       "                                                         900, 1000, 1100,\n",
       "                                                         1200]},\n",
       "                   random_state=42, scoring='neg_mean_squared_error',\n",
       "                   verbose=2)"
      ]
     },
     "execution_count": 91,
     "metadata": {},
     "output_type": "execute_result"
    }
   ],
   "source": [
    "model.fit(X_train,y_train)"
   ]
  },
  {
   "cell_type": "code",
   "execution_count": 92,
   "id": "29f7b42d",
   "metadata": {},
   "outputs": [
    {
     "data": {
      "text/plain": [
       "{'n_estimators': 700,\n",
       " 'min_samples_split': 2,\n",
       " 'min_samples_leaf': 2,\n",
       " 'max_features': 'sqrt',\n",
       " 'max_depth': 30}"
      ]
     },
     "execution_count": 92,
     "metadata": {},
     "output_type": "execute_result"
    }
   ],
   "source": [
    "model.best_params_"
   ]
  },
  {
   "cell_type": "code",
   "execution_count": 93,
   "id": "0053fb1e",
   "metadata": {},
   "outputs": [
    {
     "data": {
      "text/plain": [
       "-7457.24698962142"
      ]
     },
     "execution_count": 93,
     "metadata": {},
     "output_type": "execute_result"
    }
   ],
   "source": [
    "model.best_score_"
   ]
  },
  {
   "cell_type": "code",
   "execution_count": 94,
   "id": "eafd12d9",
   "metadata": {},
   "outputs": [],
   "source": [
    "predictions=model.predict(X_test)"
   ]
  },
  {
   "cell_type": "code",
   "execution_count": 95,
   "id": "b0d82992",
   "metadata": {},
   "outputs": [
    {
     "name": "stderr",
     "output_type": "stream",
     "text": [
      "/Users/uteamwork/opt/anaconda3/lib/python3.8/site-packages/seaborn/distributions.py:2557: FutureWarning: `distplot` is a deprecated function and will be removed in a future version. Please adapt your code to use either `displot` (a figure-level function with similar flexibility) or `histplot` (an axes-level function for histograms).\n",
      "  warnings.warn(msg, FutureWarning)\n"
     ]
    },
    {
     "data": {
      "text/plain": [
       "<AxesSubplot:ylabel='Density'>"
      ]
     },
     "execution_count": 95,
     "metadata": {},
     "output_type": "execute_result"
    },
    {
     "data": {
      "image/png": "[encoded data removed]",
      "text/plain": [
       "<Figure size 432x288 with 1 Axes>"
      ]
     },
     "metadata": {
      "needs_background": "light"
     },
     "output_type": "display_data"
    }
   ],
   "source": [
    "sns.distplot(y_test-predictions)"
   ]
  },
  {
   "cell_type": "code",
   "execution_count": 96,
   "id": "62ae294d",
   "metadata": {},
   "outputs": [
    {
     "data": {
      "text/plain": [
       "<matplotlib.collections.PathCollection at 0x12ad0fc70>"
      ]
     },
     "execution_count": 96,
     "metadata": {},
     "output_type": "execute_result"
    },
    {
     "data": {
      "image/png": "[encoded data removed]",
      "text/plain": [
       "<Figure size 432x288 with 1 Axes>"
      ]
     },
     "metadata": {
      "needs_background": "light"
     },
     "output_type": "display_data"
    }
   ],
   "source": [
    "plt.scatter(y_test,predictions)"
   ]
  },
  {
   "cell_type": "code",
   "execution_count": 97,
   "id": "2c09822b",
   "metadata": {},
   "outputs": [],
   "source": [
    "from sklearn import metrics"
   ]
  },
  {
   "cell_type": "code",
   "execution_count": 98,
   "id": "424169ee",
   "metadata": {},
   "outputs": [
    {
     "name": "stdout",
     "output_type": "stream",
     "text": [
      "MAE: 25.028082798218453\n",
      "MSE: 3311.559819438535\n",
      "RMSE: 57.546153819682296\n"
     ]
    }
   ],
   "source": [
    "print('MAE:', metrics.mean_absolute_error(y_test, predictions))\n",
    "print('MSE:', metrics.mean_squared_error(y_test, predictions))\n",
    "print('RMSE:', np.sqrt(metrics.mean_squared_error(y_test, predictions)))"
   ]
  },
  {
   "cell_type": "code",
   "execution_count": 99,
   "id": "040f88ca",
   "metadata": {},
   "outputs": [],
   "source": [
    "import pickle\n",
    "file = open('random_forest_regression_model1.pkl', 'wb')\n",
    "pickle.dump(model, file)"
   ]
  },
  {
   "cell_type": "code",
   "execution_count": null,
   "id": "0a3391ce",
   "metadata": {},
   "outputs": [],
   "source": []
  }
 ],
 "metadata": {
  "kernelspec": {
   "display_name": "Python 3",
   "language": "python",
   "name": "python3"
  },
  "language_info": {
   "codemirror_mode": {
    "name": "ipython",
    "version": 3
   },
   "file_extension": ".py",
   "mimetype": "text/x-python",
   "name": "python",
   "nbconvert_exporter": "python",
   "pygments_lexer": "ipython3",
   "version": "3.8.8"
  }
 },
 "nbformat": 4,
 "nbformat_minor": 5
}
